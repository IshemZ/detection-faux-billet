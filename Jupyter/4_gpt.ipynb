{
 "cells": [
  {
   "cell_type": "markdown",
   "id": "43285bde",
   "metadata": {},
   "source": [
    "# ===============================\n",
    "# 📌 1. Imports & Setup\n",
    "# ==============================="
   ]
  },
  {
   "cell_type": "code",
   "execution_count": 50,
   "id": "c3ea7e95",
   "metadata": {},
   "outputs": [],
   "source": [
    "import pandas as pd\n",
    "import numpy as np\n",
    "import matplotlib.pyplot as plt\n",
    "import seaborn as sns\n",
    "\n",
    "from sklearn.model_selection import train_test_split\n",
    "from sklearn.preprocessing import StandardScaler\n",
    "from sklearn.linear_model import LogisticRegression\n",
    "from sklearn.cluster import KMeans\n",
    "from sklearn.metrics import classification_report, confusion_matrix, accuracy_score\n",
    "\n",
    "# Config\n",
    "sns.set(style=\"whitegrid\")\n",
    "plt.rcParams[\"figure.figsize\"] = (10, 5)"
   ]
  },
  {
   "cell_type": "markdown",
   "id": "42a30f07",
   "metadata": {},
   "source": [
    "# ===============================\n",
    "# 📥 2. Chargement des données\n",
    "# ==============================="
   ]
  },
  {
   "cell_type": "code",
   "execution_count": 51,
   "id": "288f6b31",
   "metadata": {},
   "outputs": [
    {
     "name": "stdout",
     "output_type": "stream",
     "text": [
      "<class 'pandas.core.frame.DataFrame'>\n",
      "RangeIndex: 1500 entries, 0 to 1499\n",
      "Data columns (total 7 columns):\n",
      " #   Column        Non-Null Count  Dtype  \n",
      "---  ------        --------------  -----  \n",
      " 0   is_genuine    1500 non-null   bool   \n",
      " 1   diagonal      1500 non-null   float64\n",
      " 2   height_left   1500 non-null   float64\n",
      " 3   height_right  1500 non-null   float64\n",
      " 4   margin_low    1463 non-null   float64\n",
      " 5   margin_up     1500 non-null   float64\n",
      " 6   length        1500 non-null   float64\n",
      "dtypes: bool(1), float64(6)\n",
      "memory usage: 71.9 KB\n",
      "None\n"
     ]
    },
    {
     "data": {
      "application/vnd.microsoft.datawrangler.viewer.v0+json": {
       "columns": [
        {
         "name": "index",
         "rawType": "int64",
         "type": "integer"
        },
        {
         "name": "is_genuine",
         "rawType": "bool",
         "type": "boolean"
        },
        {
         "name": "diagonal",
         "rawType": "float64",
         "type": "float"
        },
        {
         "name": "height_left",
         "rawType": "float64",
         "type": "float"
        },
        {
         "name": "height_right",
         "rawType": "float64",
         "type": "float"
        },
        {
         "name": "margin_low",
         "rawType": "float64",
         "type": "float"
        },
        {
         "name": "margin_up",
         "rawType": "float64",
         "type": "float"
        },
        {
         "name": "length",
         "rawType": "float64",
         "type": "float"
        }
       ],
       "ref": "32360f5c-d297-48a1-87a4-88e7cede86c1",
       "rows": [
        [
         "0",
         "True",
         "171.81",
         "104.86",
         "104.95",
         "4.52",
         "2.89",
         "112.83"
        ],
        [
         "1",
         "True",
         "171.46",
         "103.36",
         "103.66",
         "3.77",
         "2.99",
         "113.09"
        ],
        [
         "2",
         "True",
         "172.69",
         "104.48",
         "103.5",
         "4.4",
         "2.94",
         "113.16"
        ],
        [
         "3",
         "True",
         "171.36",
         "103.91",
         "103.94",
         "3.62",
         "3.01",
         "113.51"
        ],
        [
         "4",
         "True",
         "171.73",
         "104.28",
         "103.46",
         "4.04",
         "3.48",
         "112.54"
        ]
       ],
       "shape": {
        "columns": 7,
        "rows": 5
       }
      },
      "text/html": [
       "<div>\n",
       "<style scoped>\n",
       "    .dataframe tbody tr th:only-of-type {\n",
       "        vertical-align: middle;\n",
       "    }\n",
       "\n",
       "    .dataframe tbody tr th {\n",
       "        vertical-align: top;\n",
       "    }\n",
       "\n",
       "    .dataframe thead th {\n",
       "        text-align: right;\n",
       "    }\n",
       "</style>\n",
       "<table border=\"1\" class=\"dataframe\">\n",
       "  <thead>\n",
       "    <tr style=\"text-align: right;\">\n",
       "      <th></th>\n",
       "      <th>is_genuine</th>\n",
       "      <th>diagonal</th>\n",
       "      <th>height_left</th>\n",
       "      <th>height_right</th>\n",
       "      <th>margin_low</th>\n",
       "      <th>margin_up</th>\n",
       "      <th>length</th>\n",
       "    </tr>\n",
       "  </thead>\n",
       "  <tbody>\n",
       "    <tr>\n",
       "      <th>0</th>\n",
       "      <td>True</td>\n",
       "      <td>171.81</td>\n",
       "      <td>104.86</td>\n",
       "      <td>104.95</td>\n",
       "      <td>4.52</td>\n",
       "      <td>2.89</td>\n",
       "      <td>112.83</td>\n",
       "    </tr>\n",
       "    <tr>\n",
       "      <th>1</th>\n",
       "      <td>True</td>\n",
       "      <td>171.46</td>\n",
       "      <td>103.36</td>\n",
       "      <td>103.66</td>\n",
       "      <td>3.77</td>\n",
       "      <td>2.99</td>\n",
       "      <td>113.09</td>\n",
       "    </tr>\n",
       "    <tr>\n",
       "      <th>2</th>\n",
       "      <td>True</td>\n",
       "      <td>172.69</td>\n",
       "      <td>104.48</td>\n",
       "      <td>103.50</td>\n",
       "      <td>4.40</td>\n",
       "      <td>2.94</td>\n",
       "      <td>113.16</td>\n",
       "    </tr>\n",
       "    <tr>\n",
       "      <th>3</th>\n",
       "      <td>True</td>\n",
       "      <td>171.36</td>\n",
       "      <td>103.91</td>\n",
       "      <td>103.94</td>\n",
       "      <td>3.62</td>\n",
       "      <td>3.01</td>\n",
       "      <td>113.51</td>\n",
       "    </tr>\n",
       "    <tr>\n",
       "      <th>4</th>\n",
       "      <td>True</td>\n",
       "      <td>171.73</td>\n",
       "      <td>104.28</td>\n",
       "      <td>103.46</td>\n",
       "      <td>4.04</td>\n",
       "      <td>3.48</td>\n",
       "      <td>112.54</td>\n",
       "    </tr>\n",
       "  </tbody>\n",
       "</table>\n",
       "</div>"
      ],
      "text/plain": [
       "   is_genuine  diagonal  height_left  height_right  margin_low  margin_up  \\\n",
       "0        True    171.81       104.86        104.95        4.52       2.89   \n",
       "1        True    171.46       103.36        103.66        3.77       2.99   \n",
       "2        True    172.69       104.48        103.50        4.40       2.94   \n",
       "3        True    171.36       103.91        103.94        3.62       3.01   \n",
       "4        True    171.73       104.28        103.46        4.04       3.48   \n",
       "\n",
       "   length  \n",
       "0  112.83  \n",
       "1  113.09  \n",
       "2  113.16  \n",
       "3  113.51  \n",
       "4  112.54  "
      ]
     },
     "metadata": {},
     "output_type": "display_data"
    }
   ],
   "source": [
    "df = pd.read_csv(\"../Source/billets.csv\", sep=\";\", encoding=\"utf-8\")\n",
    "print(df.info())\n",
    "display(df.head())"
   ]
  },
  {
   "cell_type": "markdown",
   "id": "f5c9b2e5",
   "metadata": {},
   "source": [
    "# ===============================\n",
    "# 📊 3. Analyse exploratoire (EDA)\n",
    "# ==============================="
   ]
  },
  {
   "cell_type": "code",
   "execution_count": 52,
   "id": "36f53099",
   "metadata": {},
   "outputs": [
    {
     "data": {
      "image/png": "[encoded data removed]",
      "text/plain": [
       "<Figure size 1000x500 with 1 Axes>"
      ]
     },
     "metadata": {},
     "output_type": "display_data"
    }
   ],
   "source": [
    "# Distribution vrai/faux\n",
    "sns.countplot(x='is_genuine', data=df)\n",
    "plt.title(\"Répartition des billets vrais/faux\")\n",
    "plt.show()"
   ]
  },
  {
   "cell_type": "code",
   "execution_count": 53,
   "id": "223e3c46",
   "metadata": {},
   "outputs": [
    {
     "data": {
      "application/vnd.microsoft.datawrangler.viewer.v0+json": {
       "columns": [
        {
         "name": "index",
         "rawType": "object",
         "type": "string"
        },
        {
         "name": "diagonal",
         "rawType": "float64",
         "type": "float"
        },
        {
         "name": "height_left",
         "rawType": "float64",
         "type": "float"
        },
        {
         "name": "height_right",
         "rawType": "float64",
         "type": "float"
        },
        {
         "name": "margin_low",
         "rawType": "float64",
         "type": "float"
        },
        {
         "name": "margin_up",
         "rawType": "float64",
         "type": "float"
        },
        {
         "name": "length",
         "rawType": "float64",
         "type": "float"
        }
       ],
       "ref": "098ed617-3212-462b-ab47-00948156dc41",
       "rows": [
        [
         "count",
         "1500.0",
         "1500.0",
         "1500.0",
         "1463.0",
         "1500.0",
         "1500.0"
        ],
        [
         "mean",
         "171.95844000000002",
         "104.02953333333332",
         "103.92030666666668",
         "4.485967190704033",
         "3.1514733333333336",
         "112.6785"
        ],
        [
         "std",
         "0.3051951219165007",
         "0.29946168439802756",
         "0.3256270790622835",
         "0.663812624177339",
         "0.23181311618653713",
         "0.8727298101633164"
        ],
        [
         "min",
         "171.04",
         "103.14",
         "102.82",
         "2.98",
         "2.27",
         "109.49"
        ],
        [
         "25%",
         "171.75",
         "103.82",
         "103.71",
         "4.015",
         "2.99",
         "112.03"
        ],
        [
         "50%",
         "171.96",
         "104.04",
         "103.92",
         "4.31",
         "3.14",
         "112.96"
        ],
        [
         "75%",
         "172.17",
         "104.23",
         "104.15",
         "4.87",
         "3.31",
         "113.34"
        ],
        [
         "max",
         "173.01",
         "104.88",
         "104.95",
         "6.9",
         "3.91",
         "114.44"
        ]
       ],
       "shape": {
        "columns": 6,
        "rows": 8
       }
      },
      "text/html": [
       "<div>\n",
       "<style scoped>\n",
       "    .dataframe tbody tr th:only-of-type {\n",
       "        vertical-align: middle;\n",
       "    }\n",
       "\n",
       "    .dataframe tbody tr th {\n",
       "        vertical-align: top;\n",
       "    }\n",
       "\n",
       "    .dataframe thead th {\n",
       "        text-align: right;\n",
       "    }\n",
       "</style>\n",
       "<table border=\"1\" class=\"dataframe\">\n",
       "  <thead>\n",
       "    <tr style=\"text-align: right;\">\n",
       "      <th></th>\n",
       "      <th>diagonal</th>\n",
       "      <th>height_left</th>\n",
       "      <th>height_right</th>\n",
       "      <th>margin_low</th>\n",
       "      <th>margin_up</th>\n",
       "      <th>length</th>\n",
       "    </tr>\n",
       "  </thead>\n",
       "  <tbody>\n",
       "    <tr>\n",
       "      <th>count</th>\n",
       "      <td>1500.000000</td>\n",
       "      <td>1500.000000</td>\n",
       "      <td>1500.000000</td>\n",
       "      <td>1463.000000</td>\n",
       "      <td>1500.000000</td>\n",
       "      <td>1500.00000</td>\n",
       "    </tr>\n",
       "    <tr>\n",
       "      <th>mean</th>\n",
       "      <td>171.958440</td>\n",
       "      <td>104.029533</td>\n",
       "      <td>103.920307</td>\n",
       "      <td>4.485967</td>\n",
       "      <td>3.151473</td>\n",
       "      <td>112.67850</td>\n",
       "    </tr>\n",
       "    <tr>\n",
       "      <th>std</th>\n",
       "      <td>0.305195</td>\n",
       "      <td>0.299462</td>\n",
       "      <td>0.325627</td>\n",
       "      <td>0.663813</td>\n",
       "      <td>0.231813</td>\n",
       "      <td>0.87273</td>\n",
       "    </tr>\n",
       "    <tr>\n",
       "      <th>min</th>\n",
       "      <td>171.040000</td>\n",
       "      <td>103.140000</td>\n",
       "      <td>102.820000</td>\n",
       "      <td>2.980000</td>\n",
       "      <td>2.270000</td>\n",
       "      <td>109.49000</td>\n",
       "    </tr>\n",
       "    <tr>\n",
       "      <th>25%</th>\n",
       "      <td>171.750000</td>\n",
       "      <td>103.820000</td>\n",
       "      <td>103.710000</td>\n",
       "      <td>4.015000</td>\n",
       "      <td>2.990000</td>\n",
       "      <td>112.03000</td>\n",
       "    </tr>\n",
       "    <tr>\n",
       "      <th>50%</th>\n",
       "      <td>171.960000</td>\n",
       "      <td>104.040000</td>\n",
       "      <td>103.920000</td>\n",
       "      <td>4.310000</td>\n",
       "      <td>3.140000</td>\n",
       "      <td>112.96000</td>\n",
       "    </tr>\n",
       "    <tr>\n",
       "      <th>75%</th>\n",
       "      <td>172.170000</td>\n",
       "      <td>104.230000</td>\n",
       "      <td>104.150000</td>\n",
       "      <td>4.870000</td>\n",
       "      <td>3.310000</td>\n",
       "      <td>113.34000</td>\n",
       "    </tr>\n",
       "    <tr>\n",
       "      <th>max</th>\n",
       "      <td>173.010000</td>\n",
       "      <td>104.880000</td>\n",
       "      <td>104.950000</td>\n",
       "      <td>6.900000</td>\n",
       "      <td>3.910000</td>\n",
       "      <td>114.44000</td>\n",
       "    </tr>\n",
       "  </tbody>\n",
       "</table>\n",
       "</div>"
      ],
      "text/plain": [
       "          diagonal  height_left  height_right   margin_low    margin_up  \\\n",
       "count  1500.000000  1500.000000   1500.000000  1463.000000  1500.000000   \n",
       "mean    171.958440   104.029533    103.920307     4.485967     3.151473   \n",
       "std       0.305195     0.299462      0.325627     0.663813     0.231813   \n",
       "min     171.040000   103.140000    102.820000     2.980000     2.270000   \n",
       "25%     171.750000   103.820000    103.710000     4.015000     2.990000   \n",
       "50%     171.960000   104.040000    103.920000     4.310000     3.140000   \n",
       "75%     172.170000   104.230000    104.150000     4.870000     3.310000   \n",
       "max     173.010000   104.880000    104.950000     6.900000     3.910000   \n",
       "\n",
       "           length  \n",
       "count  1500.00000  \n",
       "mean    112.67850  \n",
       "std       0.87273  \n",
       "min     109.49000  \n",
       "25%     112.03000  \n",
       "50%     112.96000  \n",
       "75%     113.34000  \n",
       "max     114.44000  "
      ]
     },
     "metadata": {},
     "output_type": "display_data"
    }
   ],
   "source": [
    "# Statistiques globales\n",
    "display(df.describe())"
   ]
  },
  {
   "cell_type": "code",
   "execution_count": 54,
   "id": "cd396403",
   "metadata": {},
   "outputs": [
    {
     "name": "stdout",
     "output_type": "stream",
     "text": [
      "is_genuine       0\n",
      "diagonal         0\n",
      "height_left      0\n",
      "height_right     0\n",
      "margin_low      37\n",
      "margin_up        0\n",
      "length           0\n",
      "dtype: int64\n"
     ]
    }
   ],
   "source": [
    "# Vérification valeurs manquantes\n",
    "print(df.isnull().sum())"
   ]
  },
  {
   "cell_type": "code",
   "execution_count": 55,
   "id": "bd972944",
   "metadata": {},
   "outputs": [
    {
     "data": {
      "image/png": "[encoded data removed]",
      "text/plain": [
       "<Figure size 1000x500 with 1 Axes>"
      ]
     },
     "metadata": {},
     "output_type": "display_data"
    },
    {
     "data": {
      "image/png": "[encoded data removed]",
      "text/plain": [
       "<Figure size 1000x500 with 1 Axes>"
      ]
     },
     "metadata": {},
     "output_type": "display_data"
    },
    {
     "data": {
      "image/png": "[encoded data removed]",
      "text/plain": [
       "<Figure size 1000x500 with 1 Axes>"
      ]
     },
     "metadata": {},
     "output_type": "display_data"
    },
    {
     "data": {
      "image/png": "[encoded data removed]",
      "text/plain": [
       "<Figure size 1000x500 with 1 Axes>"
      ]
     },
     "metadata": {},
     "output_type": "display_data"
    },
    {
     "data": {
      "image/png": "[encoded data removed]",
      "text/plain": [
       "<Figure size 1000x500 with 1 Axes>"
      ]
     },
     "metadata": {},
     "output_type": "display_data"
    },
    {
     "data": {
      "image/png": "[encoded data removed]",
      "text/plain": [
       "<Figure size 1000x500 with 1 Axes>"
      ]
     },
     "metadata": {},
     "output_type": "display_data"
    }
   ],
   "source": [
    "# Boxplots par variable\n",
    "for col in df.columns[1:]:\n",
    "    sns.boxplot(x='is_genuine', y=col, data=df)\n",
    "    plt.title(f\"{col} par type de billet\")\n",
    "    plt.show()\n"
   ]
  },
  {
   "cell_type": "code",
   "execution_count": 56,
   "id": "9c48323b",
   "metadata": {},
   "outputs": [
    {
     "data": {
      "image/png": "[encoded data removed]",
      "text/plain": [
       "<Figure size 1000x500 with 2 Axes>"
      ]
     },
     "metadata": {},
     "output_type": "display_data"
    }
   ],
   "source": [
    "\n",
    "# Corrélation entre variables\n",
    "sns.heatmap(df.corr(), annot=True, cmap='coolwarm')\n",
    "plt.title(\"Matrice de corrélation\")\n",
    "plt.show()"
   ]
  },
  {
   "cell_type": "markdown",
   "id": "525ab56a",
   "metadata": {},
   "source": [
    "# ===============================\n",
    "# 🧹 4. Préparation des données\n",
    "# ==============================="
   ]
  },
  {
   "cell_type": "code",
   "execution_count": 57,
   "id": "2b1ea9f8",
   "metadata": {},
   "outputs": [],
   "source": [
    "# Gestion des valeurs manquantes\n",
    "df[\"margin_low\"] = df[\"margin_low\"].fillna(df[\"margin_low\"].median())\n"
   ]
  },
  {
   "cell_type": "code",
   "execution_count": 58,
   "id": "a2cca043",
   "metadata": {},
   "outputs": [],
   "source": [
    "\n",
    "# Séparation X / y\n",
    "X = df.drop(columns=[\"is_genuine\"])\n",
    "y = df[\"is_genuine\"].astype(int)  # Conversion bool -> int\n"
   ]
  },
  {
   "cell_type": "code",
   "execution_count": 59,
   "id": "8a61a338",
   "metadata": {},
   "outputs": [],
   "source": [
    "\n",
    "# Standardisation\n",
    "scaler = StandardScaler()\n",
    "X_scaled = scaler.fit_transform(X)\n"
   ]
  },
  {
   "cell_type": "code",
   "execution_count": 60,
   "id": "544f24a5",
   "metadata": {},
   "outputs": [],
   "source": [
    "\n",
    "# Split train/test\n",
    "X_train, X_test, y_train, y_test = train_test_split(\n",
    "    X_scaled, y, test_size=0.2, random_state=42, stratify=y\n",
    ")"
   ]
  },
  {
   "cell_type": "markdown",
   "id": "6b70d183",
   "metadata": {},
   "source": [
    "# ===============================\n",
    "# 🔁 5. Régression logistique\n",
    "# ==============================="
   ]
  },
  {
   "cell_type": "code",
   "execution_count": 61,
   "id": "93417cb0",
   "metadata": {},
   "outputs": [
    {
     "name": "stdout",
     "output_type": "stream",
     "text": [
      "🔍 Régression Logistique\n",
      "[[ 98   2]\n",
      " [  1 199]]\n",
      "              precision    recall  f1-score   support\n",
      "\n",
      "           0       0.99      0.98      0.98       100\n",
      "           1       0.99      0.99      0.99       200\n",
      "\n",
      "    accuracy                           0.99       300\n",
      "   macro avg       0.99      0.99      0.99       300\n",
      "weighted avg       0.99      0.99      0.99       300\n",
      "\n"
     ]
    }
   ],
   "source": [
    "lr = LogisticRegression()\n",
    "lr.fit(X_train, y_train)\n",
    "\n",
    "y_pred_lr = lr.predict(X_test)\n",
    "print(\"🔍 Régression Logistique\")\n",
    "print(confusion_matrix(y_test, y_pred_lr))\n",
    "print(classification_report(y_test, y_pred_lr))"
   ]
  },
  {
   "cell_type": "markdown",
   "id": "ebe7e705",
   "metadata": {},
   "source": [
    "# ===============================\n",
    "# 🔀 6. K-means\n",
    "# ==============================="
   ]
  },
  {
   "cell_type": "code",
   "execution_count": 62,
   "id": "3098a0fa",
   "metadata": {},
   "outputs": [
    {
     "name": "stdout",
     "output_type": "stream",
     "text": [
      "Table de correspondance cluster / is_genuine :\n"
     ]
    },
    {
     "data": {
      "application/vnd.microsoft.datawrangler.viewer.v0+json": {
       "columns": [
        {
         "name": "is_genuine",
         "rawType": "bool",
         "type": "boolean"
        },
        {
         "name": "0",
         "rawType": "int64",
         "type": "integer"
        },
        {
         "name": "1",
         "rawType": "int64",
         "type": "integer"
        }
       ],
       "ref": "d62794d8-1f3c-45a9-831b-d97ab9bcfd2d",
       "rows": [
        [
         "False",
         "13",
         "487"
        ],
        [
         "True",
         "990",
         "10"
        ]
       ],
       "shape": {
        "columns": 2,
        "rows": 2
       }
      },
      "text/html": [
       "<div>\n",
       "<style scoped>\n",
       "    .dataframe tbody tr th:only-of-type {\n",
       "        vertical-align: middle;\n",
       "    }\n",
       "\n",
       "    .dataframe tbody tr th {\n",
       "        vertical-align: top;\n",
       "    }\n",
       "\n",
       "    .dataframe thead th {\n",
       "        text-align: right;\n",
       "    }\n",
       "</style>\n",
       "<table border=\"1\" class=\"dataframe\">\n",
       "  <thead>\n",
       "    <tr style=\"text-align: right;\">\n",
       "      <th>cluster</th>\n",
       "      <th>0</th>\n",
       "      <th>1</th>\n",
       "    </tr>\n",
       "    <tr>\n",
       "      <th>is_genuine</th>\n",
       "      <th></th>\n",
       "      <th></th>\n",
       "    </tr>\n",
       "  </thead>\n",
       "  <tbody>\n",
       "    <tr>\n",
       "      <th>False</th>\n",
       "      <td>13</td>\n",
       "      <td>487</td>\n",
       "    </tr>\n",
       "    <tr>\n",
       "      <th>True</th>\n",
       "      <td>990</td>\n",
       "      <td>10</td>\n",
       "    </tr>\n",
       "  </tbody>\n",
       "</table>\n",
       "</div>"
      ],
      "text/plain": [
       "cluster       0    1\n",
       "is_genuine          \n",
       "False        13  487\n",
       "True        990   10"
      ]
     },
     "metadata": {},
     "output_type": "display_data"
    }
   ],
   "source": [
    "kmeans = KMeans(n_clusters=2, random_state=42)\n",
    "kmeans.fit(X_scaled)\n",
    "\n",
    "# Attribution des clusters\n",
    "df[\"cluster\"] = kmeans.labels_\n",
    "\n",
    "# Comparaison clusters vs vérité terrain\n",
    "# On doit mapper les clusters à is_genuine\n",
    "cross = pd.crosstab(df[\"is_genuine\"], df[\"cluster\"])\n",
    "print(\"Table de correspondance cluster / is_genuine :\")\n",
    "display(cross)\n"
   ]
  },
  {
   "cell_type": "code",
   "execution_count": 63,
   "id": "1d0598d5",
   "metadata": {},
   "outputs": [
    {
     "name": "stdout",
     "output_type": "stream",
     "text": [
      "🔍 K-means Clustering\n",
      "[[   0  500]\n",
      " [   0 1000]]\n",
      "              precision    recall  f1-score   support\n",
      "\n",
      "           0       0.00      0.00      0.00       500\n",
      "           1       0.67      1.00      0.80      1000\n",
      "\n",
      "    accuracy                           0.67      1500\n",
      "   macro avg       0.33      0.50      0.40      1500\n",
      "weighted avg       0.44      0.67      0.53      1500\n",
      "\n"
     ]
    },
    {
     "name": "stderr",
     "output_type": "stream",
     "text": [
      "/Users/ishemz/myprogramfiles/detection-faux-billet/.venv/lib/python3.13/site-packages/sklearn/metrics/_classification.py:1706: UndefinedMetricWarning: Precision is ill-defined and being set to 0.0 in labels with no predicted samples. Use `zero_division` parameter to control this behavior.\n",
      "  _warn_prf(average, modifier, f\"{metric.capitalize()} is\", result.shape[0])\n",
      "/Users/ishemz/myprogramfiles/detection-faux-billet/.venv/lib/python3.13/site-packages/sklearn/metrics/_classification.py:1706: UndefinedMetricWarning: Precision is ill-defined and being set to 0.0 in labels with no predicted samples. Use `zero_division` parameter to control this behavior.\n",
      "  _warn_prf(average, modifier, f\"{metric.capitalize()} is\", result.shape[0])\n",
      "/Users/ishemz/myprogramfiles/detection-faux-billet/.venv/lib/python3.13/site-packages/sklearn/metrics/_classification.py:1706: UndefinedMetricWarning: Precision is ill-defined and being set to 0.0 in labels with no predicted samples. Use `zero_division` parameter to control this behavior.\n",
      "  _warn_prf(average, modifier, f\"{metric.capitalize()} is\", result.shape[0])\n"
     ]
    }
   ],
   "source": [
    "\n",
    "# Choix du mapping : cluster_majoritaire = vrai billet\n",
    "mapping = {kmeans.labels_[i]: df['is_genuine'].iloc[i] for i in range(10)}\n",
    "pred_kmeans = [int(mapping[label]) for label in kmeans.labels_]\n",
    "\n",
    "print(\"🔍 K-means Clustering\")\n",
    "print(confusion_matrix(y, pred_kmeans))\n",
    "print(classification_report(y, pred_kmeans))"
   ]
  },
  {
   "cell_type": "markdown",
   "id": "e0c5d1b0",
   "metadata": {},
   "source": [
    "# ===============================\n",
    "# 📈 7. Comparaison des performances\n",
    "# ==============================="
   ]
  },
  {
   "cell_type": "code",
   "execution_count": 64,
   "id": "655f1063",
   "metadata": {},
   "outputs": [
    {
     "data": {
      "application/vnd.microsoft.datawrangler.viewer.v0+json": {
       "columns": [
        {
         "name": "index",
         "rawType": "int64",
         "type": "integer"
        },
        {
         "name": "Méthode",
         "rawType": "object",
         "type": "string"
        },
        {
         "name": "Accuracy",
         "rawType": "float64",
         "type": "float"
        }
       ],
       "ref": "9bf0b70d-dd6b-45a9-b1a3-83c6bbc01654",
       "rows": [
        [
         "0",
         "Régression Logistique",
         "0.99"
        ],
        [
         "1",
         "K-means",
         "0.6666666666666666"
        ]
       ],
       "shape": {
        "columns": 2,
        "rows": 2
       }
      },
      "text/html": [
       "<div>\n",
       "<style scoped>\n",
       "    .dataframe tbody tr th:only-of-type {\n",
       "        vertical-align: middle;\n",
       "    }\n",
       "\n",
       "    .dataframe tbody tr th {\n",
       "        vertical-align: top;\n",
       "    }\n",
       "\n",
       "    .dataframe thead th {\n",
       "        text-align: right;\n",
       "    }\n",
       "</style>\n",
       "<table border=\"1\" class=\"dataframe\">\n",
       "  <thead>\n",
       "    <tr style=\"text-align: right;\">\n",
       "      <th></th>\n",
       "      <th>Méthode</th>\n",
       "      <th>Accuracy</th>\n",
       "    </tr>\n",
       "  </thead>\n",
       "  <tbody>\n",
       "    <tr>\n",
       "      <th>0</th>\n",
       "      <td>Régression Logistique</td>\n",
       "      <td>0.990000</td>\n",
       "    </tr>\n",
       "    <tr>\n",
       "      <th>1</th>\n",
       "      <td>K-means</td>\n",
       "      <td>0.666667</td>\n",
       "    </tr>\n",
       "  </tbody>\n",
       "</table>\n",
       "</div>"
      ],
      "text/plain": [
       "                 Méthode  Accuracy\n",
       "0  Régression Logistique  0.990000\n",
       "1                K-means  0.666667"
      ]
     },
     "metadata": {},
     "output_type": "display_data"
    }
   ],
   "source": [
    "results = pd.DataFrame({\n",
    "    \"Méthode\": [\"Régression Logistique\", \"K-means\"],\n",
    "    \"Accuracy\": [accuracy_score(y_test, y_pred_lr), accuracy_score(y, pred_kmeans)]\n",
    "})\n",
    "display(results)"
   ]
  },
  {
   "cell_type": "markdown",
   "id": "8650bc98",
   "metadata": {},
   "source": [
    "# ===============================\n",
    "# 🧪 8. Utilisation sur données de production\n",
    "# ==============================="
   ]
  },
  {
   "cell_type": "code",
   "execution_count": 65,
   "id": "769bcb03",
   "metadata": {},
   "outputs": [
    {
     "ename": "ValueError",
     "evalue": "The feature names should match those that were passed during fit.\nFeature names unseen at fit time:\n- is_genuine\n",
     "output_type": "error",
     "traceback": [
      "\u001b[31m---------------------------------------------------------------------------\u001b[39m",
      "\u001b[31mValueError\u001b[39m                                Traceback (most recent call last)",
      "\u001b[36mCell\u001b[39m\u001b[36m \u001b[39m\u001b[32mIn[65]\u001b[39m\u001b[32m, line 5\u001b[39m\n\u001b[32m      3\u001b[39m \u001b[38;5;66;03m# Nettoyage similaire\u001b[39;00m\n\u001b[32m      4\u001b[39m df_prod[\u001b[33m\"\u001b[39m\u001b[33mmargin_low\u001b[39m\u001b[33m\"\u001b[39m] = df_prod[\u001b[33m\"\u001b[39m\u001b[33mmargin_low\u001b[39m\u001b[33m\"\u001b[39m].fillna(df_prod[\u001b[33m\"\u001b[39m\u001b[33mmargin_low\u001b[39m\u001b[33m\"\u001b[39m].median())\n\u001b[32m----> \u001b[39m\u001b[32m5\u001b[39m X_prod = \u001b[43mscaler\u001b[49m\u001b[43m.\u001b[49m\u001b[43mtransform\u001b[49m\u001b[43m(\u001b[49m\u001b[43mdf_prod\u001b[49m\u001b[43m)\u001b[49m\n\u001b[32m      7\u001b[39m \u001b[38;5;66;03m# Prédiction\u001b[39;00m\n\u001b[32m      8\u001b[39m df_prod[\u001b[33m\"\u001b[39m\u001b[33mpred_lr\u001b[39m\u001b[33m\"\u001b[39m] = lr.predict(X_prod)\n",
      "\u001b[36mFile \u001b[39m\u001b[32m~/myprogramfiles/detection-faux-billet/.venv/lib/python3.13/site-packages/sklearn/utils/_set_output.py:316\u001b[39m, in \u001b[36m_wrap_method_output.<locals>.wrapped\u001b[39m\u001b[34m(self, X, *args, **kwargs)\u001b[39m\n\u001b[32m    314\u001b[39m \u001b[38;5;129m@wraps\u001b[39m(f)\n\u001b[32m    315\u001b[39m \u001b[38;5;28;01mdef\u001b[39;00m\u001b[38;5;250m \u001b[39m\u001b[34mwrapped\u001b[39m(\u001b[38;5;28mself\u001b[39m, X, *args, **kwargs):\n\u001b[32m--> \u001b[39m\u001b[32m316\u001b[39m     data_to_wrap = \u001b[43mf\u001b[49m\u001b[43m(\u001b[49m\u001b[38;5;28;43mself\u001b[39;49m\u001b[43m,\u001b[49m\u001b[43m \u001b[49m\u001b[43mX\u001b[49m\u001b[43m,\u001b[49m\u001b[43m \u001b[49m\u001b[43m*\u001b[49m\u001b[43margs\u001b[49m\u001b[43m,\u001b[49m\u001b[43m \u001b[49m\u001b[43m*\u001b[49m\u001b[43m*\u001b[49m\u001b[43mkwargs\u001b[49m\u001b[43m)\u001b[49m\n\u001b[32m    317\u001b[39m     \u001b[38;5;28;01mif\u001b[39;00m \u001b[38;5;28misinstance\u001b[39m(data_to_wrap, \u001b[38;5;28mtuple\u001b[39m):\n\u001b[32m    318\u001b[39m         \u001b[38;5;66;03m# only wrap the first output for cross decomposition\u001b[39;00m\n\u001b[32m    319\u001b[39m         return_tuple = (\n\u001b[32m    320\u001b[39m             _wrap_data_with_container(method, data_to_wrap[\u001b[32m0\u001b[39m], X, \u001b[38;5;28mself\u001b[39m),\n\u001b[32m    321\u001b[39m             *data_to_wrap[\u001b[32m1\u001b[39m:],\n\u001b[32m    322\u001b[39m         )\n",
      "\u001b[36mFile \u001b[39m\u001b[32m~/myprogramfiles/detection-faux-billet/.venv/lib/python3.13/site-packages/sklearn/preprocessing/_data.py:1075\u001b[39m, in \u001b[36mStandardScaler.transform\u001b[39m\u001b[34m(self, X, copy)\u001b[39m\n\u001b[32m   1072\u001b[39m check_is_fitted(\u001b[38;5;28mself\u001b[39m)\n\u001b[32m   1074\u001b[39m copy = copy \u001b[38;5;28;01mif\u001b[39;00m copy \u001b[38;5;129;01mis\u001b[39;00m \u001b[38;5;129;01mnot\u001b[39;00m \u001b[38;5;28;01mNone\u001b[39;00m \u001b[38;5;28;01melse\u001b[39;00m \u001b[38;5;28mself\u001b[39m.copy\n\u001b[32m-> \u001b[39m\u001b[32m1075\u001b[39m X = \u001b[43mvalidate_data\u001b[49m\u001b[43m(\u001b[49m\n\u001b[32m   1076\u001b[39m \u001b[43m    \u001b[49m\u001b[38;5;28;43mself\u001b[39;49m\u001b[43m,\u001b[49m\n\u001b[32m   1077\u001b[39m \u001b[43m    \u001b[49m\u001b[43mX\u001b[49m\u001b[43m,\u001b[49m\n\u001b[32m   1078\u001b[39m \u001b[43m    \u001b[49m\u001b[43mreset\u001b[49m\u001b[43m=\u001b[49m\u001b[38;5;28;43;01mFalse\u001b[39;49;00m\u001b[43m,\u001b[49m\n\u001b[32m   1079\u001b[39m \u001b[43m    \u001b[49m\u001b[43maccept_sparse\u001b[49m\u001b[43m=\u001b[49m\u001b[33;43m\"\u001b[39;49m\u001b[33;43mcsr\u001b[39;49m\u001b[33;43m\"\u001b[39;49m\u001b[43m,\u001b[49m\n\u001b[32m   1080\u001b[39m \u001b[43m    \u001b[49m\u001b[43mcopy\u001b[49m\u001b[43m=\u001b[49m\u001b[43mcopy\u001b[49m\u001b[43m,\u001b[49m\n\u001b[32m   1081\u001b[39m \u001b[43m    \u001b[49m\u001b[43mdtype\u001b[49m\u001b[43m=\u001b[49m\u001b[43mFLOAT_DTYPES\u001b[49m\u001b[43m,\u001b[49m\n\u001b[32m   1082\u001b[39m \u001b[43m    \u001b[49m\u001b[43mforce_writeable\u001b[49m\u001b[43m=\u001b[49m\u001b[38;5;28;43;01mTrue\u001b[39;49;00m\u001b[43m,\u001b[49m\n\u001b[32m   1083\u001b[39m \u001b[43m    \u001b[49m\u001b[43mensure_all_finite\u001b[49m\u001b[43m=\u001b[49m\u001b[33;43m\"\u001b[39;49m\u001b[33;43mallow-nan\u001b[39;49m\u001b[33;43m\"\u001b[39;49m\u001b[43m,\u001b[49m\n\u001b[32m   1084\u001b[39m \u001b[43m\u001b[49m\u001b[43m)\u001b[49m\n\u001b[32m   1086\u001b[39m \u001b[38;5;28;01mif\u001b[39;00m sparse.issparse(X):\n\u001b[32m   1087\u001b[39m     \u001b[38;5;28;01mif\u001b[39;00m \u001b[38;5;28mself\u001b[39m.with_mean:\n",
      "\u001b[36mFile \u001b[39m\u001b[32m~/myprogramfiles/detection-faux-billet/.venv/lib/python3.13/site-packages/sklearn/utils/validation.py:2929\u001b[39m, in \u001b[36mvalidate_data\u001b[39m\u001b[34m(_estimator, X, y, reset, validate_separately, skip_check_array, **check_params)\u001b[39m\n\u001b[32m   2845\u001b[39m \u001b[38;5;28;01mdef\u001b[39;00m\u001b[38;5;250m \u001b[39m\u001b[34mvalidate_data\u001b[39m(\n\u001b[32m   2846\u001b[39m     _estimator,\n\u001b[32m   2847\u001b[39m     /,\n\u001b[32m   (...)\u001b[39m\u001b[32m   2853\u001b[39m     **check_params,\n\u001b[32m   2854\u001b[39m ):\n\u001b[32m   2855\u001b[39m \u001b[38;5;250m    \u001b[39m\u001b[33;03m\"\"\"Validate input data and set or check feature names and counts of the input.\u001b[39;00m\n\u001b[32m   2856\u001b[39m \n\u001b[32m   2857\u001b[39m \u001b[33;03m    This helper function should be used in an estimator that requires input\u001b[39;00m\n\u001b[32m   (...)\u001b[39m\u001b[32m   2927\u001b[39m \u001b[33;03m        validated.\u001b[39;00m\n\u001b[32m   2928\u001b[39m \u001b[33;03m    \"\"\"\u001b[39;00m\n\u001b[32m-> \u001b[39m\u001b[32m2929\u001b[39m     \u001b[43m_check_feature_names\u001b[49m\u001b[43m(\u001b[49m\u001b[43m_estimator\u001b[49m\u001b[43m,\u001b[49m\u001b[43m \u001b[49m\u001b[43mX\u001b[49m\u001b[43m,\u001b[49m\u001b[43m \u001b[49m\u001b[43mreset\u001b[49m\u001b[43m=\u001b[49m\u001b[43mreset\u001b[49m\u001b[43m)\u001b[49m\n\u001b[32m   2930\u001b[39m     tags = get_tags(_estimator)\n\u001b[32m   2931\u001b[39m     \u001b[38;5;28;01mif\u001b[39;00m y \u001b[38;5;129;01mis\u001b[39;00m \u001b[38;5;28;01mNone\u001b[39;00m \u001b[38;5;129;01mand\u001b[39;00m tags.target_tags.required:\n",
      "\u001b[36mFile \u001b[39m\u001b[32m~/myprogramfiles/detection-faux-billet/.venv/lib/python3.13/site-packages/sklearn/utils/validation.py:2787\u001b[39m, in \u001b[36m_check_feature_names\u001b[39m\u001b[34m(estimator, X, reset)\u001b[39m\n\u001b[32m   2784\u001b[39m \u001b[38;5;28;01mif\u001b[39;00m \u001b[38;5;129;01mnot\u001b[39;00m missing_names \u001b[38;5;129;01mand\u001b[39;00m \u001b[38;5;129;01mnot\u001b[39;00m unexpected_names:\n\u001b[32m   2785\u001b[39m     message += \u001b[33m\"\u001b[39m\u001b[33mFeature names must be in the same order as they were in fit.\u001b[39m\u001b[38;5;130;01m\\n\u001b[39;00m\u001b[33m\"\u001b[39m\n\u001b[32m-> \u001b[39m\u001b[32m2787\u001b[39m \u001b[38;5;28;01mraise\u001b[39;00m \u001b[38;5;167;01mValueError\u001b[39;00m(message)\n",
      "\u001b[31mValueError\u001b[39m: The feature names should match those that were passed during fit.\nFeature names unseen at fit time:\n- is_genuine\n"
     ]
    }
   ],
   "source": [
    "df_prod = pd.read_csv(\"../Source/billets.csv\", sep=\";\", encoding=\"utf-8\")\n",
    "\n",
    "# Nettoyage similaire\n",
    "df_prod[\"margin_low\"] = df_prod[\"margin_low\"].fillna(df_prod[\"margin_low\"].median())\n",
    "X_prod = scaler.transform(df_prod)\n",
    "\n",
    "# Prédiction\n",
    "df_prod[\"pred_lr\"] = lr.predict(X_prod)\n",
    "df_prod[\"pred_kmeans\"] = kmeans.predict(X_prod)\n",
    "df_prod[\"pred_kmeans\"] = df_prod[\"pred_kmeans\"].map(mapping)\n",
    "\n",
    "# Export éventuel\n",
    "# df_prod.to_csv(\"resultats_predictions.csv\", index=False)\n",
    "display(df_prod.head())"
   ]
  },
  {
   "cell_type": "code",
   "execution_count": null,
   "id": "d278628b",
   "metadata": {},
   "outputs": [
    {
     "data": {
      "application/vnd.microsoft.datawrangler.viewer.v0+json": {
       "columns": [
        {
         "name": "index",
         "rawType": "int64",
         "type": "integer"
        },
        {
         "name": "is_genuine",
         "rawType": "bool",
         "type": "boolean"
        },
        {
         "name": "diagonal",
         "rawType": "float64",
         "type": "float"
        },
        {
         "name": "height_left",
         "rawType": "float64",
         "type": "float"
        },
        {
         "name": "height_right",
         "rawType": "float64",
         "type": "float"
        },
        {
         "name": "margin_low",
         "rawType": "float64",
         "type": "float"
        },
        {
         "name": "margin_up",
         "rawType": "float64",
         "type": "float"
        },
        {
         "name": "length",
         "rawType": "float64",
         "type": "float"
        }
       ],
       "ref": "965ce405-33e6-4618-8574-63040ef2ac49",
       "rows": [
        [
         "0",
         "True",
         "171.81",
         "104.86",
         "104.95",
         "4.52",
         "2.89",
         "112.83"
        ],
        [
         "1",
         "True",
         "171.46",
         "103.36",
         "103.66",
         "3.77",
         "2.99",
         "113.09"
        ],
        [
         "2",
         "True",
         "172.69",
         "104.48",
         "103.5",
         "4.4",
         "2.94",
         "113.16"
        ],
        [
         "3",
         "True",
         "171.36",
         "103.91",
         "103.94",
         "3.62",
         "3.01",
         "113.51"
        ],
        [
         "4",
         "True",
         "171.73",
         "104.28",
         "103.46",
         "4.04",
         "3.48",
         "112.54"
        ],
        [
         "5",
         "True",
         "172.17",
         "103.74",
         "104.08",
         "4.42",
         "2.95",
         "112.81"
        ],
        [
         "6",
         "True",
         "172.34",
         "104.18",
         "103.85",
         "4.58",
         "3.26",
         "112.81"
        ],
        [
         "7",
         "True",
         "171.88",
         "103.76",
         "104.08",
         "3.98",
         "2.92",
         "113.08"
        ],
        [
         "8",
         "True",
         "172.47",
         "103.92",
         "103.67",
         "4.0",
         "3.25",
         "112.85"
        ],
        [
         "9",
         "True",
         "172.47",
         "104.07",
         "104.02",
         "4.04",
         "3.25",
         "113.45"
        ],
        [
         "10",
         "True",
         "171.83",
         "104.14",
         "103.62",
         "3.16",
         "3.18",
         "113.22"
        ],
        [
         "11",
         "True",
         "171.84",
         "104.59",
         "104.0",
         "3.88",
         "3.27",
         "113.08"
        ],
        [
         "12",
         "True",
         "171.89",
         "103.89",
         "103.4",
         "4.11",
         "2.96",
         "113.24"
        ],
        [
         "13",
         "True",
         "172.2",
         "104.35",
         "103.67",
         "4.44",
         "3.38",
         "113.65"
        ],
        [
         "14",
         "True",
         "172.06",
         "103.87",
         "103.83",
         "4.09",
         "2.92",
         "113.19"
        ],
        [
         "15",
         "True",
         "171.73",
         "103.92",
         "103.74",
         "4.43",
         "2.78",
         "112.98"
        ],
        [
         "16",
         "True",
         "171.3",
         "104.19",
         "103.7",
         "4.12",
         "2.82",
         "112.87"
        ],
        [
         "17",
         "True",
         "171.88",
         "104.47",
         "103.45",
         "4.56",
         "3.33",
         "113.01"
        ],
        [
         "18",
         "True",
         "172.47",
         "103.89",
         "104.14",
         "3.74",
         "3.28",
         "113.47"
        ],
        [
         "19",
         "True",
         "171.9",
         "103.67",
         "103.15",
         "4.55",
         "3.15",
         "113.12"
        ],
        [
         "20",
         "True",
         "171.87",
         "103.91",
         "103.96",
         "3.74",
         "2.97",
         "113.59"
        ],
        [
         "21",
         "True",
         "171.82",
         "103.65",
         "103.64",
         "4.25",
         "2.8",
         "112.57"
        ],
        [
         "22",
         "True",
         "172.1",
         "103.96",
         "103.71",
         "3.93",
         "2.89",
         "112.68"
        ],
        [
         "23",
         "True",
         "172.56",
         "103.85",
         "103.62",
         "3.32",
         "3.13",
         "113.37"
        ],
        [
         "24",
         "True",
         "172.22",
         "103.75",
         "103.89",
         "4.18",
         "3.19",
         "113.34"
        ],
        [
         "25",
         "True",
         "172.09",
         "103.63",
         "103.33",
         "4.32",
         "2.88",
         "113.46"
        ],
        [
         "26",
         "True",
         "171.83",
         "103.44",
         "103.7",
         "4.15",
         "3.1",
         "113.47"
        ],
        [
         "27",
         "True",
         "171.88",
         "103.92",
         "103.74",
         "4.02",
         "3.17",
         "113.76"
        ],
        [
         "28",
         "True",
         "172.02",
         "104.18",
         "104.16",
         "3.97",
         "3.23",
         "113.64"
        ],
        [
         "29",
         "True",
         "171.58",
         "103.59",
         "103.79",
         "4.1",
         "2.92",
         "113.56"
        ],
        [
         "30",
         "True",
         "171.71",
         "103.95",
         "103.97",
         "4.0",
         "2.83",
         "113.55"
        ],
        [
         "31",
         "True",
         "171.98",
         "104.33",
         "103.61",
         "3.68",
         "3.14",
         "113.41"
        ],
        [
         "32",
         "True",
         "171.99",
         "103.79",
         "103.9",
         "4.62",
         "2.9",
         "112.92"
        ],
        [
         "33",
         "True",
         "171.85",
         "104.1",
         "103.88",
         "4.13",
         "2.93",
         "112.93"
        ],
        [
         "34",
         "True",
         "172.29",
         "103.61",
         "104.44",
         "4.54",
         "2.69",
         "113.48"
        ],
        [
         "35",
         "True",
         "172.01",
         "103.81",
         "103.65",
         "4.36",
         "3.03",
         "113.26"
        ],
        [
         "36",
         "True",
         "171.8",
         "104.28",
         "104.06",
         "4.47",
         "3.29",
         "113.93"
        ],
        [
         "37",
         "True",
         "171.73",
         "104.1",
         "104.19",
         "3.39",
         "3.19",
         "112.79"
        ],
        [
         "38",
         "True",
         "172.0",
         "103.76",
         "104.27",
         "4.42",
         "3.29",
         "112.67"
        ],
        [
         "39",
         "True",
         "172.28",
         "104.11",
         "104.19",
         "3.93",
         "3.08",
         "113.51"
        ],
        [
         "40",
         "True",
         "172.44",
         "103.96",
         "104.55",
         "3.73",
         "2.86",
         "113.16"
        ],
        [
         "41",
         "True",
         "172.08",
         "104.19",
         "103.82",
         "3.99",
         "3.21",
         "113.2"
        ],
        [
         "42",
         "True",
         "172.1",
         "103.73",
         "103.33",
         "3.72",
         "3.02",
         "113.5"
        ],
        [
         "43",
         "True",
         "172.4",
         "103.41",
         "103.85",
         "4.01",
         "3.15",
         "113.45"
        ],
        [
         "44",
         "True",
         "171.79",
         "103.83",
         "103.76",
         "3.99",
         "3.18",
         "112.9"
        ],
        [
         "45",
         "True",
         "171.42",
         "104.65",
         "103.63",
         "3.99",
         "3.05",
         "113.08"
        ],
        [
         "46",
         "True",
         "171.47",
         "103.74",
         "104.42",
         "4.19",
         "2.92",
         "113.53"
        ],
        [
         "47",
         "True",
         "172.13",
         "104.15",
         "103.93",
         "3.97",
         "2.87",
         "113.31"
        ],
        [
         "48",
         "True",
         "172.07",
         "104.05",
         "103.82",
         "3.71",
         "3.61",
         "113.05"
        ],
        [
         "49",
         "True",
         "171.82",
         "103.82",
         "103.61",
         "4.42",
         "2.9",
         "113.02"
        ]
       ],
       "shape": {
        "columns": 7,
        "rows": 1500
       }
      },
      "text/html": [
       "<div>\n",
       "<style scoped>\n",
       "    .dataframe tbody tr th:only-of-type {\n",
       "        vertical-align: middle;\n",
       "    }\n",
       "\n",
       "    .dataframe tbody tr th {\n",
       "        vertical-align: top;\n",
       "    }\n",
       "\n",
       "    .dataframe thead th {\n",
       "        text-align: right;\n",
       "    }\n",
       "</style>\n",
       "<table border=\"1\" class=\"dataframe\">\n",
       "  <thead>\n",
       "    <tr style=\"text-align: right;\">\n",
       "      <th></th>\n",
       "      <th>is_genuine</th>\n",
       "      <th>diagonal</th>\n",
       "      <th>height_left</th>\n",
       "      <th>height_right</th>\n",
       "      <th>margin_low</th>\n",
       "      <th>margin_up</th>\n",
       "      <th>length</th>\n",
       "    </tr>\n",
       "  </thead>\n",
       "  <tbody>\n",
       "    <tr>\n",
       "      <th>0</th>\n",
       "      <td>True</td>\n",
       "      <td>171.81</td>\n",
       "      <td>104.86</td>\n",
       "      <td>104.95</td>\n",
       "      <td>4.52</td>\n",
       "      <td>2.89</td>\n",
       "      <td>112.83</td>\n",
       "    </tr>\n",
       "    <tr>\n",
       "      <th>1</th>\n",
       "      <td>True</td>\n",
       "      <td>171.46</td>\n",
       "      <td>103.36</td>\n",
       "      <td>103.66</td>\n",
       "      <td>3.77</td>\n",
       "      <td>2.99</td>\n",
       "      <td>113.09</td>\n",
       "    </tr>\n",
       "    <tr>\n",
       "      <th>2</th>\n",
       "      <td>True</td>\n",
       "      <td>172.69</td>\n",
       "      <td>104.48</td>\n",
       "      <td>103.50</td>\n",
       "      <td>4.40</td>\n",
       "      <td>2.94</td>\n",
       "      <td>113.16</td>\n",
       "    </tr>\n",
       "    <tr>\n",
       "      <th>3</th>\n",
       "      <td>True</td>\n",
       "      <td>171.36</td>\n",
       "      <td>103.91</td>\n",
       "      <td>103.94</td>\n",
       "      <td>3.62</td>\n",
       "      <td>3.01</td>\n",
       "      <td>113.51</td>\n",
       "    </tr>\n",
       "    <tr>\n",
       "      <th>4</th>\n",
       "      <td>True</td>\n",
       "      <td>171.73</td>\n",
       "      <td>104.28</td>\n",
       "      <td>103.46</td>\n",
       "      <td>4.04</td>\n",
       "      <td>3.48</td>\n",
       "      <td>112.54</td>\n",
       "    </tr>\n",
       "    <tr>\n",
       "      <th>...</th>\n",
       "      <td>...</td>\n",
       "      <td>...</td>\n",
       "      <td>...</td>\n",
       "      <td>...</td>\n",
       "      <td>...</td>\n",
       "      <td>...</td>\n",
       "      <td>...</td>\n",
       "    </tr>\n",
       "    <tr>\n",
       "      <th>1495</th>\n",
       "      <td>False</td>\n",
       "      <td>171.75</td>\n",
       "      <td>104.38</td>\n",
       "      <td>104.17</td>\n",
       "      <td>4.42</td>\n",
       "      <td>3.09</td>\n",
       "      <td>111.28</td>\n",
       "    </tr>\n",
       "    <tr>\n",
       "      <th>1496</th>\n",
       "      <td>False</td>\n",
       "      <td>172.19</td>\n",
       "      <td>104.63</td>\n",
       "      <td>104.44</td>\n",
       "      <td>5.27</td>\n",
       "      <td>3.37</td>\n",
       "      <td>110.97</td>\n",
       "    </tr>\n",
       "    <tr>\n",
       "      <th>1497</th>\n",
       "      <td>False</td>\n",
       "      <td>171.80</td>\n",
       "      <td>104.01</td>\n",
       "      <td>104.12</td>\n",
       "      <td>5.51</td>\n",
       "      <td>3.36</td>\n",
       "      <td>111.95</td>\n",
       "    </tr>\n",
       "    <tr>\n",
       "      <th>1498</th>\n",
       "      <td>False</td>\n",
       "      <td>172.06</td>\n",
       "      <td>104.28</td>\n",
       "      <td>104.06</td>\n",
       "      <td>5.17</td>\n",
       "      <td>3.46</td>\n",
       "      <td>112.25</td>\n",
       "    </tr>\n",
       "    <tr>\n",
       "      <th>1499</th>\n",
       "      <td>False</td>\n",
       "      <td>171.47</td>\n",
       "      <td>104.15</td>\n",
       "      <td>103.82</td>\n",
       "      <td>4.63</td>\n",
       "      <td>3.37</td>\n",
       "      <td>112.07</td>\n",
       "    </tr>\n",
       "  </tbody>\n",
       "</table>\n",
       "<p>1500 rows × 7 columns</p>\n",
       "</div>"
      ],
      "text/plain": [
       "      is_genuine  diagonal  height_left  height_right  margin_low  margin_up  \\\n",
       "0           True    171.81       104.86        104.95        4.52       2.89   \n",
       "1           True    171.46       103.36        103.66        3.77       2.99   \n",
       "2           True    172.69       104.48        103.50        4.40       2.94   \n",
       "3           True    171.36       103.91        103.94        3.62       3.01   \n",
       "4           True    171.73       104.28        103.46        4.04       3.48   \n",
       "...          ...       ...          ...           ...         ...        ...   \n",
       "1495       False    171.75       104.38        104.17        4.42       3.09   \n",
       "1496       False    172.19       104.63        104.44        5.27       3.37   \n",
       "1497       False    171.80       104.01        104.12        5.51       3.36   \n",
       "1498       False    172.06       104.28        104.06        5.17       3.46   \n",
       "1499       False    171.47       104.15        103.82        4.63       3.37   \n",
       "\n",
       "      length  \n",
       "0     112.83  \n",
       "1     113.09  \n",
       "2     113.16  \n",
       "3     113.51  \n",
       "4     112.54  \n",
       "...      ...  \n",
       "1495  111.28  \n",
       "1496  110.97  \n",
       "1497  111.95  \n",
       "1498  112.25  \n",
       "1499  112.07  \n",
       "\n",
       "[1500 rows x 7 columns]"
      ]
     },
     "execution_count": 49,
     "metadata": {},
     "output_type": "execute_result"
    }
   ],
   "source": [
    "df_prod"
   ]
  }
 ],
 "metadata": {
  "kernelspec": {
   "display_name": "detection-faux-billet",
   "language": "python",
   "name": "python3"
  },
  "language_info": {
   "codemirror_mode": {
    "name": "ipython",
    "version": 3
   },
   "file_extension": ".py",
   "mimetype": "text/x-python",
   "name": "python",
   "nbconvert_exporter": "python",
   "pygments_lexer": "ipython3",
   "version": "3.13.4"
  }
 },
 "nbformat": 4,
 "nbformat_minor": 5
}
